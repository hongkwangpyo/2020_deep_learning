{
  "nbformat": 4,
  "nbformat_minor": 0,
  "metadata": {
    "colab": {
      "name": "dip.ipynb",
      "provenance": [],
      "collapsed_sections": [],
      "authorship_tag": "ABX9TyPHy+tGHuuPWS9Kp91sMXa1",
      "include_colab_link": true
    },
    "kernelspec": {
      "name": "python3",
      "display_name": "Python 3"
    }
  },
  "cells": [
    {
      "cell_type": "markdown",
      "metadata": {
        "id": "view-in-github",
        "colab_type": "text"
      },
      "source": [
        "<a href=\"https://colab.research.google.com/github/hongkwangpyo/2020_dip_learning/blob/master/0807_1_DDN_1.ipynb\" target=\"_parent\"><img src=\"https://colab.research.google.com/assets/colab-badge.svg\" alt=\"Open In Colab\"/></a>"
      ]
    },
    {
      "cell_type": "code",
      "metadata": {
        "id": "l0ORwXMGAqkx",
        "colab_type": "code",
        "colab": {}
      },
      "source": [
        "import tensorflow as tf\n",
        "import matplotlib.pyplot as plt\n",
        "import numpy as np\n",
        "\n",
        "from keras.layers import *\n",
        "from keras.models import *\n",
        "from keras.utils import *\n",
        "from collections import Counter"
      ],
      "execution_count": 2,
      "outputs": []
    },
    {
      "cell_type": "code",
      "metadata": {
        "id": "CAXuFK7Ajajw",
        "colab_type": "code",
        "colab": {}
      },
      "source": [
        "x = np.linspace(1,10,1000)\n",
        "y = 2*x + 1"
      ],
      "execution_count": 3,
      "outputs": []
    },
    {
      "cell_type": "code",
      "metadata": {
        "id": "_4r79UU8o2vR",
        "colab_type": "code",
        "colab": {
          "base_uri": "https://localhost:8080/",
          "height": 197
        },
        "outputId": "f733dfbc-a32d-4757-ff24-6952ea2e6774"
      },
      "source": [
        "# neural network 생성\n",
        "model =  Sequential()\n",
        "model.add(Dense(1, activation='linear', input_shape=(1,)))\n",
        "# layer 추가 시 - Dense(output_size, activation_function, input_shape - 입력 layer만)\n",
        "model.summary()"
      ],
      "execution_count": 6,
      "outputs": [
        {
          "output_type": "stream",
          "text": [
            "Model: \"sequential_2\"\n",
            "_________________________________________________________________\n",
            "Layer (type)                 Output Shape              Param #   \n",
            "=================================================================\n",
            "dense_2 (Dense)              (None, 1)                 2         \n",
            "=================================================================\n",
            "Total params: 2\n",
            "Trainable params: 2\n",
            "Non-trainable params: 0\n",
            "_________________________________________________________________\n"
          ],
          "name": "stdout"
        }
      ]
    },
    {
      "cell_type": "code",
      "metadata": {
        "id": "OYb4_6VZpVpJ",
        "colab_type": "code",
        "colab": {}
      },
      "source": [
        "model.compile(loss='mse', optimizer='sgd') # optimizer = stochastic gradient descent"
      ],
      "execution_count": 7,
      "outputs": []
    },
    {
      "cell_type": "code",
      "metadata": {
        "id": "c9fDGiB_qaSB",
        "colab_type": "code",
        "colab": {
          "base_uri": "https://localhost:8080/",
          "height": 755
        },
        "outputId": "067d7d14-e27b-4ba7-8b00-78ae93e80e64"
      },
      "source": [
        "model.fit(x,y, epochs=20) # 전체 데이터를 20회 학습하면서 w를 업데이트"
      ],
      "execution_count": 8,
      "outputs": [
        {
          "output_type": "stream",
          "text": [
            "Epoch 1/20\n",
            "32/32 [==============================] - 0s 774us/step - loss: 4.0063\n",
            "Epoch 2/20\n",
            "32/32 [==============================] - 0s 737us/step - loss: 0.0678\n",
            "Epoch 3/20\n",
            "32/32 [==============================] - 0s 722us/step - loss: 0.0541\n",
            "Epoch 4/20\n",
            "32/32 [==============================] - 0s 735us/step - loss: 0.0425\n",
            "Epoch 5/20\n",
            "32/32 [==============================] - 0s 706us/step - loss: 0.0341\n",
            "Epoch 6/20\n",
            "32/32 [==============================] - 0s 754us/step - loss: 0.0271\n",
            "Epoch 7/20\n",
            "32/32 [==============================] - 0s 833us/step - loss: 0.0217\n",
            "Epoch 8/20\n",
            "32/32 [==============================] - 0s 764us/step - loss: 0.0172\n",
            "Epoch 9/20\n",
            "32/32 [==============================] - 0s 757us/step - loss: 0.0136\n",
            "Epoch 10/20\n",
            "32/32 [==============================] - 0s 779us/step - loss: 0.0109\n",
            "Epoch 11/20\n",
            "32/32 [==============================] - 0s 737us/step - loss: 0.0087\n",
            "Epoch 12/20\n",
            "32/32 [==============================] - 0s 742us/step - loss: 0.0069\n",
            "Epoch 13/20\n",
            "32/32 [==============================] - 0s 774us/step - loss: 0.0055\n",
            "Epoch 14/20\n",
            "32/32 [==============================] - 0s 928us/step - loss: 0.0043\n",
            "Epoch 15/20\n",
            "32/32 [==============================] - 0s 786us/step - loss: 0.0034\n",
            "Epoch 16/20\n",
            "32/32 [==============================] - 0s 848us/step - loss: 0.0028\n",
            "Epoch 17/20\n",
            "32/32 [==============================] - 0s 742us/step - loss: 0.0022\n",
            "Epoch 18/20\n",
            "32/32 [==============================] - 0s 817us/step - loss: 0.0017\n",
            "Epoch 19/20\n",
            "32/32 [==============================] - 0s 769us/step - loss: 0.0014\n",
            "Epoch 20/20\n",
            "32/32 [==============================] - 0s 775us/step - loss: 0.0011\n"
          ],
          "name": "stdout"
        },
        {
          "output_type": "execute_result",
          "data": {
            "text/plain": [
              "<tensorflow.python.keras.callbacks.History at 0x7fe3d8c06208>"
            ]
          },
          "metadata": {
            "tags": []
          },
          "execution_count": 8
        }
      ]
    },
    {
      "cell_type": "code",
      "metadata": {
        "id": "dNqRUawXrJZz",
        "colab_type": "code",
        "colab": {
          "base_uri": "https://localhost:8080/",
          "height": 283
        },
        "outputId": "d15537a9-286c-469c-b2bb-be9b8730bffd"
      },
      "source": [
        "plt.plot(x,y)"
      ],
      "execution_count": 9,
      "outputs": [
        {
          "output_type": "execute_result",
          "data": {
            "text/plain": [
              "[<matplotlib.lines.Line2D at 0x7fe3d6358828>]"
            ]
          },
          "metadata": {
            "tags": []
          },
          "execution_count": 9
        },
        {
          "output_type": "display_data",
          "data": {
            "image/png": "[encoded data removed]",
            "text/plain": [
              "<Figure size 432x288 with 1 Axes>"
            ]
          },
          "metadata": {
            "tags": [],
            "needs_background": "light"
          }
        }
      ]
    },
    {
      "cell_type": "code",
      "metadata": {
        "id": "Gvo5CTYjrTvC",
        "colab_type": "code",
        "colab": {}
      },
      "source": [
        "pred_x = []\n",
        "pred_x = np.append(pred_x, 12)\n",
        "pred_x = np.append(pred_x, 14)"
      ],
      "execution_count": 11,
      "outputs": []
    },
    {
      "cell_type": "code",
      "metadata": {
        "id": "X5XLNcQArlDY",
        "colab_type": "code",
        "colab": {
          "base_uri": "https://localhost:8080/",
          "height": 285
        },
        "outputId": "3e40aa97-6c89-4d95-bcf3-bb2fd8a0f232"
      },
      "source": [
        "pred_y = model.predict(pred_x)\n",
        "plt.plot(x, y, color='y')\n",
        "plt.scatter(pred_x, pred_y, color='r')"
      ],
      "execution_count": 13,
      "outputs": [
        {
          "output_type": "execute_result",
          "data": {
            "text/plain": [
              "<matplotlib.collections.PathCollection at 0x7fe3ce259978>"
            ]
          },
          "metadata": {
            "tags": []
          },
          "execution_count": 13
        },
        {
          "output_type": "display_data",
          "data": {
            "image/png": "[encoded data removed]",
            "text/plain": [
              "<Figure size 432x288 with 1 Axes>"
            ]
          },
          "metadata": {
            "tags": [],
            "needs_background": "light"
          }
        }
      ]
    },
    {
      "cell_type": "code",
      "metadata": {
        "id": "23FtKB7wr2l4",
        "colab_type": "code",
        "colab": {
          "base_uri": "https://localhost:8080/",
          "height": 35
        },
        "outputId": "ff808b77-c722-4feb-c7f7-ab241b042974"
      },
      "source": [
        "model.get_weights()"
      ],
      "execution_count": 14,
      "outputs": [
        {
          "output_type": "execute_result",
          "data": {
            "text/plain": [
              "[array([[2.009463]], dtype=float32), array([0.9272197], dtype=float32)]"
            ]
          },
          "metadata": {
            "tags": []
          },
          "execution_count": 14
        }
      ]
    },
    {
      "cell_type": "code",
      "metadata": {
        "id": "XRap53jQsIjY",
        "colab_type": "code",
        "colab": {}
      },
      "source": [
        ""
      ],
      "execution_count": null,
      "outputs": []
    }
  ]
}