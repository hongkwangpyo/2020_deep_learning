{
  "nbformat": 4,
  "nbformat_minor": 0,
  "metadata": {
    "colab": {
      "name": "0811_4_keras_RNN_1.ipynb",
      "provenance": [],
      "collapsed_sections": [],
      "authorship_tag": "ABX9TyMOS5Y2KV5W9BEwcyi2PhPU",
      "include_colab_link": true
    },
    "kernelspec": {
      "name": "python3",
      "display_name": "Python 3"
    },
    "accelerator": "GPU"
  },
  "cells": [
    {
      "cell_type": "markdown",
      "metadata": {
        "id": "view-in-github",
        "colab_type": "text"
      },
      "source": [
        "<a href=\"https://colab.research.google.com/github/hongkwangpyo/2020_deep_learning/blob/master/0811_4_keras_RNN_1.ipynb\" target=\"_parent\"><img src=\"https://colab.research.google.com/assets/colab-badge.svg\" alt=\"Open In Colab\"/></a>"
      ]
    },
    {
      "cell_type": "code",
      "metadata": {
        "id": "DJMbXZuUBLwa",
        "colab_type": "code",
        "colab": {}
      },
      "source": [
        "import tensorflow as tf\n",
        "import numpy as np\n",
        "import matplotlib.pyplot as plt\n",
        "\n",
        "from keras.datasets import reuters\n",
        "from keras.models import Sequential\n",
        "from keras.layers import Dense, LSTM, Embedding\n",
        "from keras.preprocessing import sequence\n",
        "from keras.utils import np_utils"
      ],
      "execution_count": 1,
      "outputs": []
    },
    {
      "cell_type": "code",
      "metadata": {
        "id": "69zcL7PAB3Nv",
        "colab_type": "code",
        "colab": {}
      },
      "source": [
        "seed = 0\n",
        "np.random.seed(seed)\n",
        "tf.random.set_seed(seed)"
      ],
      "execution_count": 2,
      "outputs": []
    },
    {
      "cell_type": "code",
      "metadata": {
        "id": "efdzeYrFCD6O",
        "colab_type": "code",
        "colab": {
          "base_uri": "https://localhost:8080/",
          "height": 53
        },
        "outputId": "342155ae-f5f1-448f-8432-ee826b8d19af"
      },
      "source": [
        "(x_train, y_train), (x_test, y_test) = reuters.load_data(num_words=1000, test_split=0.2)"
      ],
      "execution_count": 3,
      "outputs": [
        {
          "output_type": "stream",
          "text": [
            "Downloading data from https://storage.googleapis.com/tensorflow/tf-keras-datasets/reuters.npz\n",
            "2113536/2110848 [==============================] - 0s 0us/step\n"
          ],
          "name": "stdout"
        }
      ]
    },
    {
      "cell_type": "code",
      "metadata": {
        "id": "1AFNYpw6CRtu",
        "colab_type": "code",
        "colab": {}
      },
      "source": [
        "category = np.max(y_train) + 1"
      ],
      "execution_count": 4,
      "outputs": []
    },
    {
      "cell_type": "code",
      "metadata": {
        "id": "yOJxRrZACd99",
        "colab_type": "code",
        "colab": {
          "base_uri": "https://localhost:8080/",
          "height": 109
        },
        "outputId": "e0603ee7-17ab-46d6-e041-d605f5415797"
      },
      "source": [
        "print(category, '카테고리수')\n",
        "print(len(x_train), '학습용 뉴스 기사수')\n",
        "print(len(x_test), '테스트용 뉴스 기사수')\n",
        "print(x_train[0])"
      ],
      "execution_count": 5,
      "outputs": [
        {
          "output_type": "stream",
          "text": [
            "46 카테고리수\n",
            "8982 학습용 뉴스 기사수\n",
            "2246 테스트용 뉴스 기사수\n",
            "[1, 2, 2, 8, 43, 10, 447, 5, 25, 207, 270, 5, 2, 111, 16, 369, 186, 90, 67, 7, 89, 5, 19, 102, 6, 19, 124, 15, 90, 67, 84, 22, 482, 26, 7, 48, 4, 49, 8, 864, 39, 209, 154, 6, 151, 6, 83, 11, 15, 22, 155, 11, 15, 7, 48, 9, 2, 2, 504, 6, 258, 6, 272, 11, 15, 22, 134, 44, 11, 15, 16, 8, 197, 2, 90, 67, 52, 29, 209, 30, 32, 132, 6, 109, 15, 17, 12]\n"
          ],
          "name": "stdout"
        }
      ]
    },
    {
      "cell_type": "code",
      "metadata": {
        "id": "QVFLEVF-Cv9-",
        "colab_type": "code",
        "colab": {}
      },
      "source": [
        "x_train = sequence.pad_sequences(x_train, maxlen=100)\n",
        "x_test = sequence.pad_sequences(x_test, maxlen=100)"
      ],
      "execution_count": 6,
      "outputs": []
    },
    {
      "cell_type": "code",
      "metadata": {
        "id": "PewzVeaADGru",
        "colab_type": "code",
        "colab": {
          "base_uri": "https://localhost:8080/",
          "height": 35
        },
        "outputId": "e4d6f7cf-1e79-44a2-c337-f784b1c53f45"
      },
      "source": [
        "len(x_train[0])"
      ],
      "execution_count": 7,
      "outputs": [
        {
          "output_type": "execute_result",
          "data": {
            "text/plain": [
              "100"
            ]
          },
          "metadata": {
            "tags": []
          },
          "execution_count": 7
        }
      ]
    },
    {
      "cell_type": "code",
      "metadata": {
        "id": "Ph72NgTeDHk-",
        "colab_type": "code",
        "colab": {
          "base_uri": "https://localhost:8080/",
          "height": 35
        },
        "outputId": "db19edc9-81a8-46b1-9b47-4121674399b6"
      },
      "source": [
        "y_train = np_utils.to_categorical(y_train)\n",
        "y_test = np_utils.to_categorical(y_test)\n",
        "len(y_train[0])"
      ],
      "execution_count": 8,
      "outputs": [
        {
          "output_type": "execute_result",
          "data": {
            "text/plain": [
              "46"
            ]
          },
          "metadata": {
            "tags": []
          },
          "execution_count": 8
        }
      ]
    },
    {
      "cell_type": "code",
      "metadata": {
        "id": "rGv2RqzWDM4u",
        "colab_type": "code",
        "colab": {}
      },
      "source": [
        "model = Sequential()\n",
        "model.add(Embedding(1000, 100))\n",
        "model.add(LSTM(100, activation='tanh')) # sigmoid : 0-1사이의 값(확률) , tanh : -1~1사이의 값(음수의 범위를 더 증폭시킨다)\n",
        "model.add(Dense(46, activation='softmax'))"
      ],
      "execution_count": 9,
      "outputs": []
    },
    {
      "cell_type": "code",
      "metadata": {
        "id": "6TJrtM_cDMrm",
        "colab_type": "code",
        "colab": {}
      },
      "source": [
        "model.compile(loss = 'categorical_crossentropy',\n",
        "              optimizer = 'adam',\n",
        "              metrics = ['accuracy'])"
      ],
      "execution_count": 10,
      "outputs": []
    },
    {
      "cell_type": "code",
      "metadata": {
        "id": "jyPbKxaqDMde",
        "colab_type": "code",
        "colab": {
          "base_uri": "https://localhost:8080/",
          "height": 737
        },
        "outputId": "6705b230-8449-4569-f440-5170409298a9"
      },
      "source": [
        "hist = model.fit(x_train, y_train, batch_size=100, epochs=20, validation_data=(x_test, y_test))"
      ],
      "execution_count": 11,
      "outputs": [
        {
          "output_type": "stream",
          "text": [
            "Epoch 1/20\n",
            "90/90 [==============================] - 4s 41ms/step - loss: 2.5636 - accuracy: 0.3657 - val_loss: 2.1754 - val_accuracy: 0.4849\n",
            "Epoch 2/20\n",
            "90/90 [==============================] - 3s 35ms/step - loss: 2.0467 - accuracy: 0.4938 - val_loss: 1.9955 - val_accuracy: 0.5111\n",
            "Epoch 3/20\n",
            "90/90 [==============================] - 3s 35ms/step - loss: 1.9545 - accuracy: 0.5094 - val_loss: 2.0129 - val_accuracy: 0.4546\n",
            "Epoch 4/20\n",
            "90/90 [==============================] - 3s 35ms/step - loss: 1.8597 - accuracy: 0.5226 - val_loss: 1.7690 - val_accuracy: 0.5654\n",
            "Epoch 5/20\n",
            "90/90 [==============================] - 3s 34ms/step - loss: 1.7619 - accuracy: 0.5474 - val_loss: 1.7197 - val_accuracy: 0.5632\n",
            "Epoch 6/20\n",
            "90/90 [==============================] - 3s 34ms/step - loss: 1.6419 - accuracy: 0.5798 - val_loss: 1.7201 - val_accuracy: 0.5543\n",
            "Epoch 7/20\n",
            "90/90 [==============================] - 3s 34ms/step - loss: 1.6209 - accuracy: 0.5813 - val_loss: 1.6266 - val_accuracy: 0.5890\n",
            "Epoch 8/20\n",
            "90/90 [==============================] - 3s 34ms/step - loss: 1.5576 - accuracy: 0.6052 - val_loss: 1.5971 - val_accuracy: 0.5939\n",
            "Epoch 9/20\n",
            "90/90 [==============================] - 3s 34ms/step - loss: 1.5070 - accuracy: 0.6193 - val_loss: 1.6047 - val_accuracy: 0.5948\n",
            "Epoch 10/20\n",
            "90/90 [==============================] - 3s 34ms/step - loss: 1.4387 - accuracy: 0.6422 - val_loss: 1.5630 - val_accuracy: 0.5882\n",
            "Epoch 11/20\n",
            "90/90 [==============================] - 3s 34ms/step - loss: 1.3872 - accuracy: 0.6532 - val_loss: 1.4639 - val_accuracy: 0.6362\n",
            "Epoch 12/20\n",
            "90/90 [==============================] - 3s 33ms/step - loss: 1.3126 - accuracy: 0.6767 - val_loss: 1.4209 - val_accuracy: 0.6443\n",
            "Epoch 13/20\n",
            "90/90 [==============================] - 3s 33ms/step - loss: 1.2405 - accuracy: 0.6908 - val_loss: 1.3848 - val_accuracy: 0.6572\n",
            "Epoch 14/20\n",
            "90/90 [==============================] - 3s 33ms/step - loss: 1.1940 - accuracy: 0.7014 - val_loss: 1.3166 - val_accuracy: 0.6656\n",
            "Epoch 15/20\n",
            "90/90 [==============================] - 3s 34ms/step - loss: 1.1348 - accuracy: 0.7122 - val_loss: 1.2971 - val_accuracy: 0.6741\n",
            "Epoch 16/20\n",
            "90/90 [==============================] - 3s 33ms/step - loss: 1.0826 - accuracy: 0.7316 - val_loss: 1.2457 - val_accuracy: 0.6825\n",
            "Epoch 17/20\n",
            "90/90 [==============================] - 3s 33ms/step - loss: 1.0339 - accuracy: 0.7452 - val_loss: 1.2268 - val_accuracy: 0.6941\n",
            "Epoch 18/20\n",
            "90/90 [==============================] - 3s 33ms/step - loss: 0.9934 - accuracy: 0.7528 - val_loss: 1.2165 - val_accuracy: 0.7004\n",
            "Epoch 19/20\n",
            "90/90 [==============================] - 3s 33ms/step - loss: 0.9594 - accuracy: 0.7607 - val_loss: 1.1851 - val_accuracy: 0.7039\n",
            "Epoch 20/20\n",
            "90/90 [==============================] - 3s 33ms/step - loss: 0.9161 - accuracy: 0.7719 - val_loss: 1.2253 - val_accuracy: 0.6906\n"
          ],
          "name": "stdout"
        }
      ]
    },
    {
      "cell_type": "code",
      "metadata": {
        "id": "972ju2L1DMRI",
        "colab_type": "code",
        "colab": {
          "base_uri": "https://localhost:8080/",
          "height": 279
        },
        "outputId": "834456a5-b77a-4c80-f5e1-3f1defaebaf3"
      },
      "source": [
        "acc = hist.history['accuracy']\n",
        "val_acc = hist.history['val_accuracy']\n",
        "y_vloss = hist.history['val_loss']\n",
        "y_loss = hist.history['loss']\n",
        "\n",
        "x_len = np.arange(len(acc))\n",
        "plt.plot(x_len, acc, marker=',', c='r', label='Trainset_acc')\n",
        "plt.plot(x_len, val_acc, marker='.', c='b', label='Testset_acc')\n",
        "plt.plot(x_len, y_vloss, marker='.', c='skyblue', label='Testset_loss')\n",
        "plt.plot(x_len, y_loss, marker='.', c='tomato', label='Testset_loss')\n",
        "\n",
        "plt.legend(loc='upper right')\n",
        "plt.grid()\n",
        "plt.xlabel('epoch')\n",
        "plt.ylabel('loss/acc')\n",
        "plt.show()"
      ],
      "execution_count": 15,
      "outputs": [
        {
          "output_type": "display_data",
          "data": {
            "image/png": "[encoded data removed]",
            "text/plain": [
              "<Figure size 432x288 with 1 Axes>"
            ]
          },
          "metadata": {
            "tags": [],
            "needs_background": "light"
          }
        }
      ]
    },
    {
      "cell_type": "code",
      "metadata": {
        "id": "4K2qNvT3DMEm",
        "colab_type": "code",
        "colab": {
          "base_uri": "https://localhost:8080/",
          "height": 53
        },
        "outputId": "c1662b6c-e30d-4e8b-846b-ed71cffea80e"
      },
      "source": [
        "model.evaluate(x_test, y_test)"
      ],
      "execution_count": 14,
      "outputs": [
        {
          "output_type": "stream",
          "text": [
            "71/71 [==============================] - 1s 11ms/step - loss: 1.2253 - accuracy: 0.6906\n"
          ],
          "name": "stdout"
        },
        {
          "output_type": "execute_result",
          "data": {
            "text/plain": [
              "[1.2252604961395264, 0.6905609965324402]"
            ]
          },
          "metadata": {
            "tags": []
          },
          "execution_count": 14
        }
      ]
    },
    {
      "cell_type": "code",
      "metadata": {
        "id": "mz-K9l81DL4p",
        "colab_type": "code",
        "colab": {}
      },
      "source": [
        ""
      ],
      "execution_count": 11,
      "outputs": []
    },
    {
      "cell_type": "code",
      "metadata": {
        "id": "26rh39EiDK32",
        "colab_type": "code",
        "colab": {}
      },
      "source": [
        ""
      ],
      "execution_count": 11,
      "outputs": []
    }
  ]
}