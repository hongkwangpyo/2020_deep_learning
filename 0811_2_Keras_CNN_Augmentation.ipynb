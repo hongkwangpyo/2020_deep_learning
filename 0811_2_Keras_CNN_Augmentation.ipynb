{
  "nbformat": 4,
  "nbformat_minor": 0,
  "metadata": {
    "colab": {
      "name": "0811_2_Keras_CNN_Augmentation.ipynb",
      "provenance": [],
      "collapsed_sections": [],
      "include_colab_link": true
    },
    "kernelspec": {
      "name": "python3",
      "display_name": "Python 3"
    },
    "accelerator": "GPU"
  },
  "cells": [
    {
      "cell_type": "markdown",
      "metadata": {
        "id": "view-in-github",
        "colab_type": "text"
      },
      "source": [
        "<a href=\"https://colab.research.google.com/github/hongkwangpyo/2020_deep_learning/blob/master/0811_2_Keras_CNN_Augmentation.ipynb\" target=\"_parent\"><img src=\"https://colab.research.google.com/assets/colab-badge.svg\" alt=\"Open In Colab\"/></a>"
      ]
    },
    {
      "cell_type": "code",
      "metadata": {
        "id": "Qtfw47tYRpZZ",
        "colab_type": "code",
        "colab": {
          "base_uri": "https://localhost:8080/",
          "height": 127
        },
        "outputId": "0362e131-10fc-4371-c2b8-71aafa278fd2"
      },
      "source": [
        "from google.colab import auth\n",
        "auth.authenticate_user()\n",
        "\n",
        "from google.colab import drive\n",
        "drive.mount('/content/gdrive')"
      ],
      "execution_count": 2,
      "outputs": [
        {
          "output_type": "stream",
          "text": [
            "Go to this URL in a browser: https://accounts.google.com/o/oauth2/auth?client_id=947318989803-6bn6qk8qdgf4n4g3pfee6491hc0brc4i.apps.googleusercontent.com&redirect_uri=urn%3aietf%3awg%3aoauth%3a2.0%3aoob&scope=email%20https%3a%2f%2fwww.googleapis.com%2fauth%2fdocs.test%20https%3a%2f%2fwww.googleapis.com%2fauth%2fdrive%20https%3a%2f%2fwww.googleapis.com%2fauth%2fdrive.photos.readonly%20https%3a%2f%2fwww.googleapis.com%2fauth%2fpeopleapi.readonly&response_type=code\n",
            "\n",
            "Enter your authorization code:\n",
            "··········\n",
            "Mounted at /content/gdrive\n"
          ],
          "name": "stdout"
        }
      ]
    },
    {
      "cell_type": "code",
      "metadata": {
        "id": "49kMMqbWRuko",
        "colab_type": "code",
        "colab": {
          "base_uri": "https://localhost:8080/",
          "height": 35
        },
        "outputId": "962dc253-4977-43e0-9839-1aa677faf443"
      },
      "source": [
        "!ls '/content/gdrive/My Drive/Colab Notebooks/train'"
      ],
      "execution_count": 3,
      "outputs": [
        {
          "output_type": "stream",
          "text": [
            "ad  normal\n"
          ],
          "name": "stdout"
        }
      ]
    },
    {
      "cell_type": "code",
      "metadata": {
        "id": "ZkQkFDAFRunP",
        "colab_type": "code",
        "colab": {}
      },
      "source": [
        "import tensorflow as tf\n",
        "import numpy as np\n",
        "import matplotlib.pyplot as plt\n",
        "\n",
        "from tensorflow.keras.models import Sequential\n",
        "from tensorflow.keras.layers import Dense, Activation, Dropout, Flatten, Dense, Conv2D, MaxPooling2D\n",
        "from tensorflow.keras.preprocessing.image import ImageDataGenerator\n",
        "from tensorflow.keras import optimizers, initializers, regularizers, metrics"
      ],
      "execution_count": 4,
      "outputs": []
    },
    {
      "cell_type": "code",
      "metadata": {
        "id": "IwLFaMWbRupw",
        "colab_type": "code",
        "colab": {}
      },
      "source": [
        "np.random.seed(3)\n",
        "tf.random.set_seed(3)"
      ],
      "execution_count": 5,
      "outputs": []
    },
    {
      "cell_type": "code",
      "metadata": {
        "id": "YRiTf2EkRusQ",
        "colab_type": "code",
        "colab": {
          "base_uri": "https://localhost:8080/",
          "height": 35
        },
        "outputId": "a8d50b8a-1a74-4634-8192-e983cd70886b"
      },
      "source": [
        "train_datagen = ImageDataGenerator(rescale = 1./255,\n",
        "                                   horizontal_flip=True,\n",
        "                                   width_shift_range=0.1,\n",
        "                                   height_shift_range=0.1,\n",
        "                                   fill_mode='nearest')\n",
        "train_generator = train_datagen.flow_from_directory(\n",
        "    '/content/gdrive/My Drive/Colab Notebooks/train',\n",
        "    target_size = (150, 150),\n",
        "    batch_size=5,\n",
        "    class_mode='binary'\n",
        ")"
      ],
      "execution_count": 6,
      "outputs": [
        {
          "output_type": "stream",
          "text": [
            "Found 160 images belonging to 2 classes.\n"
          ],
          "name": "stdout"
        }
      ]
    },
    {
      "cell_type": "code",
      "metadata": {
        "id": "l5rGr_PFRuux",
        "colab_type": "code",
        "colab": {
          "base_uri": "https://localhost:8080/",
          "height": 35
        },
        "outputId": "e58cea42-86a1-4b1e-96f2-00cc4e743991"
      },
      "source": [
        "test_datagen = ImageDataGenerator(rescale = 1./255)\n",
        "\n",
        "test_generator = test_datagen.flow_from_directory(\n",
        "    '/content/gdrive/My Drive/Colab Notebooks/test',\n",
        "    target_size = (150, 150),\n",
        "    batch_size = 5,\n",
        "    class_mode = 'binary'\n",
        ")"
      ],
      "execution_count": 7,
      "outputs": [
        {
          "output_type": "stream",
          "text": [
            "Found 120 images belonging to 2 classes.\n"
          ],
          "name": "stdout"
        }
      ]
    },
    {
      "cell_type": "code",
      "metadata": {
        "id": "-sIhCcN1RuxT",
        "colab_type": "code",
        "colab": {}
      },
      "source": [
        "model = Sequential()\n",
        "model.add(Conv2D(32, (3,3), input_shape = (150,150,3)))\n",
        "model.add(Activation('relu'))\n",
        "model.add(MaxPooling2D(pool_size=(2,2)))\n",
        "\n",
        "model.add(Conv2D(32, (3,3)))\n",
        "model.add(Activation('relu'))\n",
        "model.add(MaxPooling2D(pool_size=(2,2)))\n",
        "\n",
        "model.add(Conv2D(64, (3,3)))\n",
        "model.add(Activation('relu'))\n",
        "model.add(MaxPooling2D(pool_size=(2,2)))\n",
        "\n",
        "model.add(Flatten())\n",
        "model.add(Dense(64))\n",
        "model.add(Activation('relu'))\n",
        "model.add(Dropout(0.5))\n",
        "model.add(Dense(2))\n",
        "model.add(Activation('softmax'))"
      ],
      "execution_count": 8,
      "outputs": []
    },
    {
      "cell_type": "code",
      "metadata": {
        "id": "kxVaSDBURuz5",
        "colab_type": "code",
        "colab": {}
      },
      "source": [
        "model.compile(loss='sparse_categorical_crossentropy',\n",
        "              optimizer = optimizers.Adam(learning_rate=0.0002),\n",
        "              metrics=['accuracy'])"
      ],
      "execution_count": 9,
      "outputs": []
    },
    {
      "cell_type": "code",
      "metadata": {
        "id": "KsMwRZipRu2e",
        "colab_type": "code",
        "colab": {
          "base_uri": "https://localhost:8080/",
          "height": 791
        },
        "outputId": "b818d6c8-7457-4d26-8f6f-3ac2273b910c"
      },
      "source": [
        "history = model.fit_generator(\n",
        "    train_generator,\n",
        "    steps_per_epoch=10,\n",
        "    epochs=20,\n",
        "    validation_data = test_generator,\n",
        "    validation_steps=10\n",
        ")"
      ],
      "execution_count": 10,
      "outputs": [
        {
          "output_type": "stream",
          "text": [
            "WARNING:tensorflow:From <ipython-input-10-2543634ece3a>:6: Model.fit_generator (from tensorflow.python.keras.engine.training) is deprecated and will be removed in a future version.\n",
            "Instructions for updating:\n",
            "Please use Model.fit, which supports generators.\n",
            "Epoch 1/20\n",
            "10/10 [==============================] - 28s 3s/step - loss: 0.6929 - accuracy: 0.4600 - val_loss: 0.7127 - val_accuracy: 0.4600\n",
            "Epoch 2/20\n",
            "10/10 [==============================] - 17s 2s/step - loss: 0.7413 - accuracy: 0.4600 - val_loss: 0.6871 - val_accuracy: 0.5600\n",
            "Epoch 3/20\n",
            "10/10 [==============================] - 12s 1s/step - loss: 0.6884 - accuracy: 0.5400 - val_loss: 0.7227 - val_accuracy: 0.3800\n",
            "Epoch 4/20\n",
            "10/10 [==============================] - 8s 798ms/step - loss: 0.6994 - accuracy: 0.5200 - val_loss: 0.6948 - val_accuracy: 0.4600\n",
            "Epoch 5/20\n",
            "10/10 [==============================] - 3s 345ms/step - loss: 0.6877 - accuracy: 0.5800 - val_loss: 0.6891 - val_accuracy: 0.6600\n",
            "Epoch 6/20\n",
            "10/10 [==============================] - 1s 145ms/step - loss: 0.6922 - accuracy: 0.4400 - val_loss: 0.6778 - val_accuracy: 0.6000\n",
            "Epoch 7/20\n",
            "10/10 [==============================] - 2s 154ms/step - loss: 0.6909 - accuracy: 0.5400 - val_loss: 0.6898 - val_accuracy: 0.4800\n",
            "Epoch 8/20\n",
            "10/10 [==============================] - 1s 132ms/step - loss: 0.6981 - accuracy: 0.4200 - val_loss: 0.6810 - val_accuracy: 0.5200\n",
            "Epoch 9/20\n",
            "10/10 [==============================] - 1s 137ms/step - loss: 0.6847 - accuracy: 0.5400 - val_loss: 0.6822 - val_accuracy: 0.5600\n",
            "Epoch 10/20\n",
            "10/10 [==============================] - 1s 125ms/step - loss: 0.6570 - accuracy: 0.6600 - val_loss: 0.6945 - val_accuracy: 0.5200\n",
            "Epoch 11/20\n",
            "10/10 [==============================] - 1s 73ms/step - loss: 0.7688 - accuracy: 0.5000 - val_loss: 0.6998 - val_accuracy: 0.3800\n",
            "Epoch 12/20\n",
            "10/10 [==============================] - 0s 47ms/step - loss: 0.6798 - accuracy: 0.6800 - val_loss: 0.6837 - val_accuracy: 0.7600\n",
            "Epoch 13/20\n",
            "10/10 [==============================] - 0s 45ms/step - loss: 0.6886 - accuracy: 0.5000 - val_loss: 0.6844 - val_accuracy: 0.5200\n",
            "Epoch 14/20\n",
            "10/10 [==============================] - 0s 46ms/step - loss: 0.6865 - accuracy: 0.5200 - val_loss: 0.6831 - val_accuracy: 0.5400\n",
            "Epoch 15/20\n",
            "10/10 [==============================] - 0s 42ms/step - loss: 0.6903 - accuracy: 0.5200 - val_loss: 0.6858 - val_accuracy: 0.4600\n",
            "Epoch 16/20\n",
            "10/10 [==============================] - 0s 43ms/step - loss: 0.6733 - accuracy: 0.7600 - val_loss: 0.6796 - val_accuracy: 0.6400\n",
            "Epoch 17/20\n",
            "10/10 [==============================] - 0s 43ms/step - loss: 0.6618 - accuracy: 0.7000 - val_loss: 0.6705 - val_accuracy: 0.5400\n",
            "Epoch 18/20\n",
            "10/10 [==============================] - 0s 43ms/step - loss: 0.6790 - accuracy: 0.6200 - val_loss: 0.6754 - val_accuracy: 0.5400\n",
            "Epoch 19/20\n",
            "10/10 [==============================] - 0s 43ms/step - loss: 0.6737 - accuracy: 0.5800 - val_loss: 0.6880 - val_accuracy: 0.4800\n",
            "Epoch 20/20\n",
            "10/10 [==============================] - 0s 43ms/step - loss: 0.6670 - accuracy: 0.5800 - val_loss: 0.6620 - val_accuracy: 0.5200\n"
          ],
          "name": "stdout"
        }
      ]
    },
    {
      "cell_type": "code",
      "metadata": {
        "id": "Jzipn2dNRu5B",
        "colab_type": "code",
        "colab": {
          "base_uri": "https://localhost:8080/",
          "height": 279
        },
        "outputId": "f38f0d91-b446-4123-895f-f3aafc387876"
      },
      "source": [
        "acc = history.history['accuracy']\n",
        "val_acc = history.history['val_accuracy']\n",
        "y_vloss = history.history['val_loss']\n",
        "y_loss = history.history['loss']\n",
        "\n",
        "x_len = np.arange(len(y_loss))\n",
        "plt.plot(x_len, acc, marker=',', c='r', label='Trainset_acc')\n",
        "plt.plot(x_len, val_acc, marker='.', c='b', label='Testset_acc')\n",
        "plt.plot(x_len, y_vloss, marker='.', c='skyblue', label='Testset_loss')\n",
        "plt.plot(x_len, y_loss, marker='.', c='tomato', label='Testset_loss')\n",
        "\n",
        "plt.legend(loc='upper right')\n",
        "plt.grid()\n",
        "plt.xlabel('epoch')\n",
        "plt.ylabel('loss/acc')\n",
        "plt.show()"
      ],
      "execution_count": 17,
      "outputs": [
        {
          "output_type": "display_data",
          "data": {
            "image/png": "[encoded data removed]",
            "text/plain": [
              "<Figure size 432x288 with 1 Axes>"
            ]
          },
          "metadata": {
            "tags": [],
            "needs_background": "light"
          }
        }
      ]
    },
    {
      "cell_type": "code",
      "metadata": {
        "id": "lUWML_YOb6pD",
        "colab_type": "code",
        "colab": {}
      },
      "source": [
        ""
      ],
      "execution_count": null,
      "outputs": []
    },
    {
      "cell_type": "code",
      "metadata": {
        "id": "1xtUf7lOb6r1",
        "colab_type": "code",
        "colab": {}
      },
      "source": [
        ""
      ],
      "execution_count": null,
      "outputs": []
    },
    {
      "cell_type": "code",
      "metadata": {
        "id": "3cb5-Riub6up",
        "colab_type": "code",
        "colab": {}
      },
      "source": [
        ""
      ],
      "execution_count": null,
      "outputs": []
    },
    {
      "cell_type": "code",
      "metadata": {
        "id": "W0PCwqiHb6xZ",
        "colab_type": "code",
        "colab": {}
      },
      "source": [
        ""
      ],
      "execution_count": null,
      "outputs": []
    }
  ]
}