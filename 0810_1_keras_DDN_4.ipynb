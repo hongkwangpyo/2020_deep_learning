{
  "nbformat": 4,
  "nbformat_minor": 0,
  "metadata": {
    "colab": {
      "name": "0810_1_keras_DDN_4.ipynb",
      "provenance": [],
      "collapsed_sections": [],
      "authorship_tag": "ABX9TyPWNKsKwNpiVZ7PwKdpC9Ov",
      "include_colab_link": true
    },
    "kernelspec": {
      "name": "python3",
      "display_name": "Python 3"
    }
  },
  "cells": [
    {
      "cell_type": "markdown",
      "metadata": {
        "id": "view-in-github",
        "colab_type": "text"
      },
      "source": [
        "<a href=\"https://colab.research.google.com/github/hongkwangpyo/2020_dip_learning/blob/master/0810_1_keras_DDN_4.ipynb\" target=\"_parent\"><img src=\"https://colab.research.google.com/assets/colab-badge.svg\" alt=\"Open In Colab\"/></a>"
      ]
    },
    {
      "cell_type": "code",
      "metadata": {
        "id": "p6NfWkv9N5K5",
        "colab_type": "code",
        "colab": {
          "base_uri": "https://localhost:8080/",
          "height": 53
        },
        "outputId": "917b8db5-3e1b-4629-9328-a3b90507954e"
      },
      "source": [
        "import tensorflow as tf\n",
        "import matplotlib.pyplot as plt\n",
        "import seaborn as sns\n",
        "import numpy as np\n",
        "import pandas as pd\n",
        "from keras.layers import *\n",
        "from keras.models import *\n",
        "from keras.utils import *\n",
        "from collections import Counter\n",
        "\n",
        "from sklearn.preprocessing import *"
      ],
      "execution_count": 1,
      "outputs": [
        {
          "output_type": "stream",
          "text": [
            "/usr/local/lib/python3.6/dist-packages/statsmodels/tools/_testing.py:19: FutureWarning: pandas.util.testing is deprecated. Use the functions in the public API at pandas.testing instead.\n",
            "  import pandas.util.testing as tm\n"
          ],
          "name": "stderr"
        }
      ]
    },
    {
      "cell_type": "code",
      "metadata": {
        "id": "nuekRyBVN7Xj",
        "colab_type": "code",
        "colab": {}
      },
      "source": [
        "from sklearn.datasets import load_iris\n",
        "iris = load_iris()"
      ],
      "execution_count": 3,
      "outputs": []
    },
    {
      "cell_type": "code",
      "metadata": {
        "id": "0v-tpb7jONjM",
        "colab_type": "code",
        "colab": {
          "base_uri": "https://localhost:8080/",
          "height": 35
        },
        "outputId": "b49bbc58-ef66-47ba-e0d9-29f7254210e9"
      },
      "source": [
        "iris.keys()"
      ],
      "execution_count": 11,
      "outputs": [
        {
          "output_type": "execute_result",
          "data": {
            "text/plain": [
              "dict_keys(['data', 'target', 'target_names', 'DESCR', 'feature_names', 'filename'])"
            ]
          },
          "metadata": {
            "tags": []
          },
          "execution_count": 11
        }
      ]
    },
    {
      "cell_type": "code",
      "metadata": {
        "id": "T7Rhm8GtORwr",
        "colab_type": "code",
        "colab": {
          "base_uri": "https://localhost:8080/",
          "height": 204
        },
        "outputId": "e73108cf-9def-4a5c-b876-3da70ce3164d"
      },
      "source": [
        "df = pd.DataFrame(iris.data, columns=['ls', 'sw', 'pl', 'pw'])\n",
        "df.head()"
      ],
      "execution_count": 12,
      "outputs": [
        {
          "output_type": "execute_result",
          "data": {
            "text/html": [
              "<div>\n",
              "<style scoped>\n",
              "    .dataframe tbody tr th:only-of-type {\n",
              "        vertical-align: middle;\n",
              "    }\n",
              "\n",
              "    .dataframe tbody tr th {\n",
              "        vertical-align: top;\n",
              "    }\n",
              "\n",
              "    .dataframe thead th {\n",
              "        text-align: right;\n",
              "    }\n",
              "</style>\n",
              "<table border=\"1\" class=\"dataframe\">\n",
              "  <thead>\n",
              "    <tr style=\"text-align: right;\">\n",
              "      <th></th>\n",
              "      <th>ls</th>\n",
              "      <th>sw</th>\n",
              "      <th>pl</th>\n",
              "      <th>pw</th>\n",
              "    </tr>\n",
              "  </thead>\n",
              "  <tbody>\n",
              "    <tr>\n",
              "      <th>0</th>\n",
              "      <td>5.1</td>\n",
              "      <td>3.5</td>\n",
              "      <td>1.4</td>\n",
              "      <td>0.2</td>\n",
              "    </tr>\n",
              "    <tr>\n",
              "      <th>1</th>\n",
              "      <td>4.9</td>\n",
              "      <td>3.0</td>\n",
              "      <td>1.4</td>\n",
              "      <td>0.2</td>\n",
              "    </tr>\n",
              "    <tr>\n",
              "      <th>2</th>\n",
              "      <td>4.7</td>\n",
              "      <td>3.2</td>\n",
              "      <td>1.3</td>\n",
              "      <td>0.2</td>\n",
              "    </tr>\n",
              "    <tr>\n",
              "      <th>3</th>\n",
              "      <td>4.6</td>\n",
              "      <td>3.1</td>\n",
              "      <td>1.5</td>\n",
              "      <td>0.2</td>\n",
              "    </tr>\n",
              "    <tr>\n",
              "      <th>4</th>\n",
              "      <td>5.0</td>\n",
              "      <td>3.6</td>\n",
              "      <td>1.4</td>\n",
              "      <td>0.2</td>\n",
              "    </tr>\n",
              "  </tbody>\n",
              "</table>\n",
              "</div>"
            ],
            "text/plain": [
              "    ls   sw   pl   pw\n",
              "0  5.1  3.5  1.4  0.2\n",
              "1  4.9  3.0  1.4  0.2\n",
              "2  4.7  3.2  1.3  0.2\n",
              "3  4.6  3.1  1.5  0.2\n",
              "4  5.0  3.6  1.4  0.2"
            ]
          },
          "metadata": {
            "tags": []
          },
          "execution_count": 12
        }
      ]
    },
    {
      "cell_type": "code",
      "metadata": {
        "id": "HGytzwvtPPRb",
        "colab_type": "code",
        "colab": {}
      },
      "source": [
        "x = df\n",
        "y = iris.target"
      ],
      "execution_count": 76,
      "outputs": []
    },
    {
      "cell_type": "code",
      "metadata": {
        "id": "nUA5jYuJPaKz",
        "colab_type": "code",
        "colab": {
          "base_uri": "https://localhost:8080/",
          "height": 35
        },
        "outputId": "9017d33d-c255-43ab-8eb3-0f855aee0ae1"
      },
      "source": [
        "y = to_categorical(y).astype('int')\n",
        "y[0]"
      ],
      "execution_count": 77,
      "outputs": [
        {
          "output_type": "execute_result",
          "data": {
            "text/plain": [
              "array([1, 0, 0])"
            ]
          },
          "metadata": {
            "tags": []
          },
          "execution_count": 77
        }
      ]
    },
    {
      "cell_type": "markdown",
      "metadata": {
        "id": "gW4u2wHhQkd8",
        "colab_type": "text"
      },
      "source": [
        "# 신경망을 생성하고 학습을 통해 붓꽃의 종류를 예측하는 deep learning neural network를 만들고 예측하시오"
      ]
    },
    {
      "cell_type": "code",
      "metadata": {
        "id": "zhkbDQV4SYFr",
        "colab_type": "code",
        "colab": {}
      },
      "source": [
        "y = pd.DataFrame(y)"
      ],
      "execution_count": 78,
      "outputs": []
    },
    {
      "cell_type": "code",
      "metadata": {
        "id": "leVKAOlpQQ7_",
        "colab_type": "code",
        "colab": {}
      },
      "source": [
        "from sklearn.model_selection import train_test_split\n",
        "x_train, x_test, y_train, y_test = train_test_split(x, y, test_size=0.2, random_state=11)"
      ],
      "execution_count": 79,
      "outputs": []
    },
    {
      "cell_type": "code",
      "metadata": {
        "id": "4kgr3nCXPtY7",
        "colab_type": "code",
        "colab": {
          "base_uri": "https://localhost:8080/",
          "height": 377
        },
        "outputId": "222e1771-c6a0-42e1-ddb8-822deef013d9"
      },
      "source": [
        "model = Sequential()\n",
        "model.add(Dense(512, activation='relu', input_shape=(4,)))\n",
        "model.add(Dense(256, activation='relu'))\n",
        "model.add(Dense(128, activation='relu'))\n",
        "model.add(Dense(64, activation='relu'))\n",
        "model.add(Dense(32, activation='relu'))\n",
        "model.add(Dense(3, activation='softmax'))\n",
        "model.summary()"
      ],
      "execution_count": 85,
      "outputs": [
        {
          "output_type": "stream",
          "text": [
            "Model: \"sequential_8\"\n",
            "_________________________________________________________________\n",
            "Layer (type)                 Output Shape              Param #   \n",
            "=================================================================\n",
            "dense_36 (Dense)             (None, 512)               2560      \n",
            "_________________________________________________________________\n",
            "dense_37 (Dense)             (None, 256)               131328    \n",
            "_________________________________________________________________\n",
            "dense_38 (Dense)             (None, 128)               32896     \n",
            "_________________________________________________________________\n",
            "dense_39 (Dense)             (None, 64)                8256      \n",
            "_________________________________________________________________\n",
            "dense_40 (Dense)             (None, 32)                2080      \n",
            "_________________________________________________________________\n",
            "dense_41 (Dense)             (None, 3)                 99        \n",
            "=================================================================\n",
            "Total params: 177,219\n",
            "Trainable params: 177,219\n",
            "Non-trainable params: 0\n",
            "_________________________________________________________________\n"
          ],
          "name": "stdout"
        }
      ]
    },
    {
      "cell_type": "code",
      "metadata": {
        "id": "xqKMgtDWRP7j",
        "colab_type": "code",
        "colab": {}
      },
      "source": [
        "model.compile(loss='categorical_crossentropy', optimizer='adam', metrics='accuracy') # 그래디언트 adam"
      ],
      "execution_count": 86,
      "outputs": []
    },
    {
      "cell_type": "code",
      "metadata": {
        "id": "Olqoy9fsRg8k",
        "colab_type": "code",
        "colab": {
          "base_uri": "https://localhost:8080/",
          "height": 1000
        },
        "outputId": "f7150da3-2e4e-420b-dfed-ef12a4cfab50"
      },
      "source": [
        "hist = model.fit(x_train, y_train, epochs=100, validation_split=0.2)"
      ],
      "execution_count": 87,
      "outputs": [
        {
          "output_type": "stream",
          "text": [
            "Epoch 1/100\n",
            "3/3 [==============================] - 0s 64ms/step - loss: 1.0675 - accuracy: 0.4688 - val_loss: 0.9409 - val_accuracy: 0.3333\n",
            "Epoch 2/100\n",
            "3/3 [==============================] - 0s 11ms/step - loss: 0.9147 - accuracy: 0.4479 - val_loss: 0.8309 - val_accuracy: 0.5417\n",
            "Epoch 3/100\n",
            "3/3 [==============================] - 0s 10ms/step - loss: 0.7477 - accuracy: 0.6979 - val_loss: 0.7186 - val_accuracy: 0.5417\n",
            "Epoch 4/100\n",
            "3/3 [==============================] - 0s 9ms/step - loss: 0.6272 - accuracy: 0.6979 - val_loss: 0.6335 - val_accuracy: 0.5417\n",
            "Epoch 5/100\n",
            "3/3 [==============================] - 0s 10ms/step - loss: 0.5235 - accuracy: 0.6979 - val_loss: 0.5659 - val_accuracy: 0.5417\n",
            "Epoch 6/100\n",
            "3/3 [==============================] - 0s 9ms/step - loss: 0.4393 - accuracy: 0.8333 - val_loss: 0.4758 - val_accuracy: 0.9583\n",
            "Epoch 7/100\n",
            "3/3 [==============================] - 0s 9ms/step - loss: 0.3734 - accuracy: 0.8646 - val_loss: 0.4056 - val_accuracy: 0.9167\n",
            "Epoch 8/100\n",
            "3/3 [==============================] - 0s 9ms/step - loss: 0.3233 - accuracy: 0.9167 - val_loss: 0.3308 - val_accuracy: 0.9583\n",
            "Epoch 9/100\n",
            "3/3 [==============================] - 0s 8ms/step - loss: 0.2852 - accuracy: 0.9375 - val_loss: 0.2971 - val_accuracy: 0.9167\n",
            "Epoch 10/100\n",
            "3/3 [==============================] - 0s 10ms/step - loss: 0.2531 - accuracy: 0.9271 - val_loss: 0.2169 - val_accuracy: 0.9583\n",
            "Epoch 11/100\n",
            "3/3 [==============================] - 0s 8ms/step - loss: 0.2162 - accuracy: 0.9167 - val_loss: 0.1588 - val_accuracy: 0.9583\n",
            "Epoch 12/100\n",
            "3/3 [==============================] - 0s 9ms/step - loss: 0.1605 - accuracy: 0.9792 - val_loss: 0.1587 - val_accuracy: 0.9583\n",
            "Epoch 13/100\n",
            "3/3 [==============================] - 0s 8ms/step - loss: 0.1549 - accuracy: 0.9375 - val_loss: 0.1135 - val_accuracy: 0.9583\n",
            "Epoch 14/100\n",
            "3/3 [==============================] - 0s 9ms/step - loss: 0.1250 - accuracy: 0.9792 - val_loss: 0.1040 - val_accuracy: 1.0000\n",
            "Epoch 15/100\n",
            "3/3 [==============================] - 0s 9ms/step - loss: 0.1145 - accuracy: 0.9583 - val_loss: 0.1006 - val_accuracy: 0.9583\n",
            "Epoch 16/100\n",
            "3/3 [==============================] - 0s 9ms/step - loss: 0.1124 - accuracy: 0.9896 - val_loss: 0.0866 - val_accuracy: 0.9583\n",
            "Epoch 17/100\n",
            "3/3 [==============================] - 0s 10ms/step - loss: 0.1035 - accuracy: 0.9688 - val_loss: 0.0975 - val_accuracy: 0.9583\n",
            "Epoch 18/100\n",
            "3/3 [==============================] - 0s 9ms/step - loss: 0.1111 - accuracy: 0.9479 - val_loss: 0.1130 - val_accuracy: 0.9583\n",
            "Epoch 19/100\n",
            "3/3 [==============================] - 0s 9ms/step - loss: 0.1132 - accuracy: 0.9479 - val_loss: 0.0877 - val_accuracy: 0.9583\n",
            "Epoch 20/100\n",
            "3/3 [==============================] - 0s 9ms/step - loss: 0.0755 - accuracy: 0.9792 - val_loss: 0.1439 - val_accuracy: 0.9583\n",
            "Epoch 21/100\n",
            "3/3 [==============================] - 0s 9ms/step - loss: 0.0861 - accuracy: 0.9688 - val_loss: 0.1309 - val_accuracy: 0.9583\n",
            "Epoch 22/100\n",
            "3/3 [==============================] - 0s 9ms/step - loss: 0.1126 - accuracy: 0.9792 - val_loss: 0.1621 - val_accuracy: 0.9167\n",
            "Epoch 23/100\n",
            "3/3 [==============================] - 0s 8ms/step - loss: 0.0947 - accuracy: 0.9479 - val_loss: 0.1381 - val_accuracy: 0.9583\n",
            "Epoch 24/100\n",
            "3/3 [==============================] - 0s 10ms/step - loss: 0.1411 - accuracy: 0.9479 - val_loss: 0.1161 - val_accuracy: 0.9583\n",
            "Epoch 25/100\n",
            "3/3 [==============================] - 0s 10ms/step - loss: 0.1250 - accuracy: 0.9375 - val_loss: 0.0947 - val_accuracy: 0.9583\n",
            "Epoch 26/100\n",
            "3/3 [==============================] - 0s 11ms/step - loss: 0.1249 - accuracy: 0.9479 - val_loss: 0.1048 - val_accuracy: 0.9583\n",
            "Epoch 27/100\n",
            "3/3 [==============================] - 0s 9ms/step - loss: 0.0892 - accuracy: 0.9479 - val_loss: 0.1466 - val_accuracy: 0.9583\n",
            "Epoch 28/100\n",
            "3/3 [==============================] - 0s 8ms/step - loss: 0.0652 - accuracy: 0.9688 - val_loss: 0.1245 - val_accuracy: 0.9583\n",
            "Epoch 29/100\n",
            "3/3 [==============================] - 0s 10ms/step - loss: 0.1068 - accuracy: 0.9688 - val_loss: 0.1064 - val_accuracy: 0.9167\n",
            "Epoch 30/100\n",
            "3/3 [==============================] - 0s 10ms/step - loss: 0.1243 - accuracy: 0.9479 - val_loss: 0.1168 - val_accuracy: 0.9167\n",
            "Epoch 31/100\n",
            "3/3 [==============================] - 0s 9ms/step - loss: 0.1267 - accuracy: 0.9688 - val_loss: 0.1716 - val_accuracy: 0.9583\n",
            "Epoch 32/100\n",
            "3/3 [==============================] - 0s 9ms/step - loss: 0.0780 - accuracy: 0.9688 - val_loss: 0.1738 - val_accuracy: 0.9167\n",
            "Epoch 33/100\n",
            "3/3 [==============================] - 0s 9ms/step - loss: 0.0986 - accuracy: 0.9375 - val_loss: 0.1258 - val_accuracy: 0.9583\n",
            "Epoch 34/100\n",
            "3/3 [==============================] - 0s 9ms/step - loss: 0.1192 - accuracy: 0.9479 - val_loss: 0.1209 - val_accuracy: 0.9583\n",
            "Epoch 35/100\n",
            "3/3 [==============================] - 0s 9ms/step - loss: 0.0958 - accuracy: 0.9583 - val_loss: 0.1771 - val_accuracy: 0.9167\n",
            "Epoch 36/100\n",
            "3/3 [==============================] - 0s 10ms/step - loss: 0.0775 - accuracy: 0.9583 - val_loss: 0.1669 - val_accuracy: 0.9583\n",
            "Epoch 37/100\n",
            "3/3 [==============================] - 0s 9ms/step - loss: 0.1522 - accuracy: 0.9271 - val_loss: 0.1187 - val_accuracy: 0.9583\n",
            "Epoch 38/100\n",
            "3/3 [==============================] - 0s 9ms/step - loss: 0.0939 - accuracy: 0.9688 - val_loss: 0.2436 - val_accuracy: 0.9167\n",
            "Epoch 39/100\n",
            "3/3 [==============================] - 0s 9ms/step - loss: 0.1130 - accuracy: 0.9583 - val_loss: 0.1813 - val_accuracy: 0.9583\n",
            "Epoch 40/100\n",
            "3/3 [==============================] - 0s 9ms/step - loss: 0.2076 - accuracy: 0.9167 - val_loss: 0.1266 - val_accuracy: 0.9583\n",
            "Epoch 41/100\n",
            "3/3 [==============================] - 0s 8ms/step - loss: 0.1520 - accuracy: 0.9583 - val_loss: 0.3185 - val_accuracy: 0.8750\n",
            "Epoch 42/100\n",
            "3/3 [==============================] - 0s 9ms/step - loss: 0.1558 - accuracy: 0.9375 - val_loss: 0.1551 - val_accuracy: 0.9583\n",
            "Epoch 43/100\n",
            "3/3 [==============================] - 0s 9ms/step - loss: 0.1713 - accuracy: 0.9271 - val_loss: 0.1435 - val_accuracy: 0.9583\n",
            "Epoch 44/100\n",
            "3/3 [==============================] - 0s 9ms/step - loss: 0.1039 - accuracy: 0.9583 - val_loss: 0.1922 - val_accuracy: 0.9167\n",
            "Epoch 45/100\n",
            "3/3 [==============================] - 0s 8ms/step - loss: 0.1124 - accuracy: 0.9375 - val_loss: 0.1268 - val_accuracy: 0.9167\n",
            "Epoch 46/100\n",
            "3/3 [==============================] - 0s 8ms/step - loss: 0.1010 - accuracy: 0.9792 - val_loss: 0.1431 - val_accuracy: 0.9583\n",
            "Epoch 47/100\n",
            "3/3 [==============================] - 0s 8ms/step - loss: 0.0865 - accuracy: 0.9688 - val_loss: 0.1230 - val_accuracy: 0.9167\n",
            "Epoch 48/100\n",
            "3/3 [==============================] - 0s 9ms/step - loss: 0.0594 - accuracy: 0.9896 - val_loss: 0.1817 - val_accuracy: 0.9583\n",
            "Epoch 49/100\n",
            "3/3 [==============================] - 0s 9ms/step - loss: 0.1002 - accuracy: 0.9479 - val_loss: 0.1269 - val_accuracy: 0.9583\n",
            "Epoch 50/100\n",
            "3/3 [==============================] - 0s 9ms/step - loss: 0.0663 - accuracy: 0.9896 - val_loss: 0.1432 - val_accuracy: 0.9583\n",
            "Epoch 51/100\n",
            "3/3 [==============================] - 0s 9ms/step - loss: 0.0795 - accuracy: 0.9792 - val_loss: 0.1288 - val_accuracy: 0.9583\n",
            "Epoch 52/100\n",
            "3/3 [==============================] - 0s 9ms/step - loss: 0.0746 - accuracy: 0.9688 - val_loss: 0.1628 - val_accuracy: 0.9167\n",
            "Epoch 53/100\n",
            "3/3 [==============================] - 0s 8ms/step - loss: 0.0700 - accuracy: 0.9792 - val_loss: 0.1282 - val_accuracy: 0.9583\n",
            "Epoch 54/100\n",
            "3/3 [==============================] - 0s 11ms/step - loss: 0.0576 - accuracy: 0.9896 - val_loss: 0.1280 - val_accuracy: 0.9583\n",
            "Epoch 55/100\n",
            "3/3 [==============================] - 0s 9ms/step - loss: 0.0529 - accuracy: 0.9896 - val_loss: 0.1386 - val_accuracy: 0.9167\n",
            "Epoch 56/100\n",
            "3/3 [==============================] - 0s 9ms/step - loss: 0.0520 - accuracy: 0.9896 - val_loss: 0.1441 - val_accuracy: 0.9167\n",
            "Epoch 57/100\n",
            "3/3 [==============================] - 0s 9ms/step - loss: 0.0503 - accuracy: 0.9896 - val_loss: 0.1357 - val_accuracy: 0.9167\n",
            "Epoch 58/100\n",
            "3/3 [==============================] - 0s 9ms/step - loss: 0.0498 - accuracy: 0.9896 - val_loss: 0.1425 - val_accuracy: 0.9167\n",
            "Epoch 59/100\n",
            "3/3 [==============================] - 0s 9ms/step - loss: 0.0557 - accuracy: 0.9896 - val_loss: 0.1515 - val_accuracy: 0.9167\n",
            "Epoch 60/100\n",
            "3/3 [==============================] - 0s 8ms/step - loss: 0.0487 - accuracy: 0.9896 - val_loss: 0.1392 - val_accuracy: 0.9583\n",
            "Epoch 61/100\n",
            "3/3 [==============================] - 0s 9ms/step - loss: 0.0545 - accuracy: 0.9896 - val_loss: 0.1422 - val_accuracy: 0.9167\n",
            "Epoch 62/100\n",
            "3/3 [==============================] - 0s 9ms/step - loss: 0.0508 - accuracy: 0.9896 - val_loss: 0.1702 - val_accuracy: 0.9167\n",
            "Epoch 63/100\n",
            "3/3 [==============================] - 0s 10ms/step - loss: 0.0516 - accuracy: 0.9792 - val_loss: 0.1430 - val_accuracy: 0.9167\n",
            "Epoch 64/100\n",
            "3/3 [==============================] - 0s 9ms/step - loss: 0.0495 - accuracy: 0.9896 - val_loss: 0.1340 - val_accuracy: 0.9583\n",
            "Epoch 65/100\n",
            "3/3 [==============================] - 0s 9ms/step - loss: 0.0510 - accuracy: 0.9896 - val_loss: 0.1481 - val_accuracy: 0.9167\n",
            "Epoch 66/100\n",
            "3/3 [==============================] - 0s 9ms/step - loss: 0.0451 - accuracy: 0.9896 - val_loss: 0.1749 - val_accuracy: 0.9167\n",
            "Epoch 67/100\n",
            "3/3 [==============================] - 0s 9ms/step - loss: 0.0489 - accuracy: 0.9896 - val_loss: 0.1522 - val_accuracy: 0.9167\n",
            "Epoch 68/100\n",
            "3/3 [==============================] - 0s 9ms/step - loss: 0.0445 - accuracy: 0.9896 - val_loss: 0.1479 - val_accuracy: 0.9167\n",
            "Epoch 69/100\n",
            "3/3 [==============================] - 0s 9ms/step - loss: 0.0467 - accuracy: 0.9896 - val_loss: 0.1526 - val_accuracy: 0.9167\n",
            "Epoch 70/100\n",
            "3/3 [==============================] - 0s 9ms/step - loss: 0.0455 - accuracy: 0.9896 - val_loss: 0.1768 - val_accuracy: 0.9167\n",
            "Epoch 71/100\n",
            "3/3 [==============================] - 0s 9ms/step - loss: 0.0466 - accuracy: 0.9896 - val_loss: 0.1574 - val_accuracy: 0.9167\n",
            "Epoch 72/100\n",
            "3/3 [==============================] - 0s 9ms/step - loss: 0.0469 - accuracy: 0.9896 - val_loss: 0.1544 - val_accuracy: 0.9167\n",
            "Epoch 73/100\n",
            "3/3 [==============================] - 0s 8ms/step - loss: 0.0431 - accuracy: 0.9896 - val_loss: 0.1755 - val_accuracy: 0.9167\n",
            "Epoch 74/100\n",
            "3/3 [==============================] - 0s 9ms/step - loss: 0.0449 - accuracy: 0.9896 - val_loss: 0.1701 - val_accuracy: 0.9167\n",
            "Epoch 75/100\n",
            "3/3 [==============================] - 0s 9ms/step - loss: 0.0428 - accuracy: 0.9896 - val_loss: 0.1605 - val_accuracy: 0.9167\n",
            "Epoch 76/100\n",
            "3/3 [==============================] - 0s 9ms/step - loss: 0.0435 - accuracy: 0.9896 - val_loss: 0.1659 - val_accuracy: 0.9167\n",
            "Epoch 77/100\n",
            "3/3 [==============================] - 0s 10ms/step - loss: 0.0456 - accuracy: 0.9896 - val_loss: 0.1613 - val_accuracy: 0.9167\n",
            "Epoch 78/100\n",
            "3/3 [==============================] - 0s 9ms/step - loss: 0.0429 - accuracy: 0.9896 - val_loss: 0.1835 - val_accuracy: 0.9167\n",
            "Epoch 79/100\n",
            "3/3 [==============================] - 0s 9ms/step - loss: 0.0437 - accuracy: 0.9896 - val_loss: 0.1749 - val_accuracy: 0.9167\n",
            "Epoch 80/100\n",
            "3/3 [==============================] - 0s 8ms/step - loss: 0.0474 - accuracy: 0.9896 - val_loss: 0.1692 - val_accuracy: 0.9167\n",
            "Epoch 81/100\n",
            "3/3 [==============================] - 0s 9ms/step - loss: 0.0430 - accuracy: 0.9896 - val_loss: 0.1528 - val_accuracy: 0.9167\n",
            "Epoch 82/100\n",
            "3/3 [==============================] - 0s 11ms/step - loss: 0.0460 - accuracy: 0.9896 - val_loss: 0.1733 - val_accuracy: 0.9167\n",
            "Epoch 83/100\n",
            "3/3 [==============================] - 0s 8ms/step - loss: 0.0483 - accuracy: 0.9896 - val_loss: 0.1832 - val_accuracy: 0.9167\n",
            "Epoch 84/100\n",
            "3/3 [==============================] - 0s 9ms/step - loss: 0.0413 - accuracy: 0.9896 - val_loss: 0.1639 - val_accuracy: 0.9167\n",
            "Epoch 85/100\n",
            "3/3 [==============================] - 0s 9ms/step - loss: 0.0468 - accuracy: 0.9896 - val_loss: 0.1745 - val_accuracy: 0.9167\n",
            "Epoch 86/100\n",
            "3/3 [==============================] - 0s 9ms/step - loss: 0.0423 - accuracy: 0.9896 - val_loss: 0.2012 - val_accuracy: 0.9167\n",
            "Epoch 87/100\n",
            "3/3 [==============================] - 0s 10ms/step - loss: 0.0424 - accuracy: 0.9896 - val_loss: 0.1889 - val_accuracy: 0.9167\n",
            "Epoch 88/100\n",
            "3/3 [==============================] - 0s 9ms/step - loss: 0.0427 - accuracy: 0.9896 - val_loss: 0.1766 - val_accuracy: 0.9167\n",
            "Epoch 89/100\n",
            "3/3 [==============================] - 0s 9ms/step - loss: 0.0471 - accuracy: 0.9896 - val_loss: 0.1654 - val_accuracy: 0.9167\n",
            "Epoch 90/100\n",
            "3/3 [==============================] - 0s 9ms/step - loss: 0.0418 - accuracy: 0.9896 - val_loss: 0.1984 - val_accuracy: 0.9167\n",
            "Epoch 91/100\n",
            "3/3 [==============================] - 0s 9ms/step - loss: 0.0427 - accuracy: 0.9896 - val_loss: 0.2085 - val_accuracy: 0.9167\n",
            "Epoch 92/100\n",
            "3/3 [==============================] - 0s 9ms/step - loss: 0.0412 - accuracy: 0.9896 - val_loss: 0.1684 - val_accuracy: 0.9167\n",
            "Epoch 93/100\n",
            "3/3 [==============================] - 0s 9ms/step - loss: 0.0464 - accuracy: 0.9896 - val_loss: 0.1786 - val_accuracy: 0.9167\n",
            "Epoch 94/100\n",
            "3/3 [==============================] - 0s 9ms/step - loss: 0.0416 - accuracy: 0.9896 - val_loss: 0.2226 - val_accuracy: 0.9167\n",
            "Epoch 95/100\n",
            "3/3 [==============================] - 0s 9ms/step - loss: 0.0439 - accuracy: 0.9896 - val_loss: 0.1988 - val_accuracy: 0.9167\n",
            "Epoch 96/100\n",
            "3/3 [==============================] - 0s 9ms/step - loss: 0.0381 - accuracy: 0.9896 - val_loss: 0.1725 - val_accuracy: 0.9167\n",
            "Epoch 97/100\n",
            "3/3 [==============================] - 0s 9ms/step - loss: 0.0477 - accuracy: 0.9896 - val_loss: 0.1891 - val_accuracy: 0.9167\n",
            "Epoch 98/100\n",
            "3/3 [==============================] - 0s 9ms/step - loss: 0.0439 - accuracy: 0.9896 - val_loss: 0.2105 - val_accuracy: 0.9167\n",
            "Epoch 99/100\n",
            "3/3 [==============================] - 0s 9ms/step - loss: 0.0396 - accuracy: 0.9896 - val_loss: 0.1757 - val_accuracy: 0.9167\n",
            "Epoch 100/100\n",
            "3/3 [==============================] - 0s 9ms/step - loss: 0.0462 - accuracy: 0.9896 - val_loss: 0.1928 - val_accuracy: 0.9167\n"
          ],
          "name": "stdout"
        }
      ]
    },
    {
      "cell_type": "code",
      "metadata": {
        "id": "lE-0YctURpFr",
        "colab_type": "code",
        "colab": {
          "base_uri": "https://localhost:8080/",
          "height": 35
        },
        "outputId": "09cbd4b6-14ac-4034-dd36-d8b888a953b5"
      },
      "source": [
        "hist.history.keys()"
      ],
      "execution_count": 88,
      "outputs": [
        {
          "output_type": "execute_result",
          "data": {
            "text/plain": [
              "dict_keys(['loss', 'accuracy', 'val_loss', 'val_accuracy'])"
            ]
          },
          "metadata": {
            "tags": []
          },
          "execution_count": 88
        }
      ]
    },
    {
      "cell_type": "code",
      "metadata": {
        "id": "8gmi5WEZTWCc",
        "colab_type": "code",
        "colab": {
          "base_uri": "https://localhost:8080/",
          "height": 641
        },
        "outputId": "dae1d34f-8718-406e-f9a6-53e61bda3334"
      },
      "source": [
        "plt.figure(figsize=(10,5))\n",
        "plt.subplot(1,2,1)\n",
        "plt.plot(hist.history['accuracy'], color='r') # train data => 과적합중\n",
        "plt.plot(hist.history['val_accuracy']) # test data => 비슷\n",
        "plt.figure(figsize=(10,5))\n",
        "\n",
        "plt.subplot(1,2,2)\n",
        "plt.plot(hist.history['loss'], color='r') \n",
        "plt.plot(hist.history['val_loss']) "
      ],
      "execution_count": 89,
      "outputs": [
        {
          "output_type": "execute_result",
          "data": {
            "text/plain": [
              "[<matplotlib.lines.Line2D at 0x7f0fb5c2fa58>]"
            ]
          },
          "metadata": {
            "tags": []
          },
          "execution_count": 89
        },
        {
          "output_type": "display_data",
          "data": {
            "image/png": "[encoded data removed]",
            "text/plain": [
              "<Figure size 720x360 with 1 Axes>"
            ]
          },
          "metadata": {
            "tags": [],
            "needs_background": "light"
          }
        },
        {
          "output_type": "display_data",
          "data": {
            "image/png": "[encoded data removed]",
            "text/plain": [
              "<Figure size 720x360 with 1 Axes>"
            ]
          },
          "metadata": {
            "tags": [],
            "needs_background": "light"
          }
        }
      ]
    },
    {
      "cell_type": "code",
      "metadata": {
        "id": "Ma2eFTPHT-kS",
        "colab_type": "code",
        "colab": {
          "base_uri": "https://localhost:8080/",
          "height": 53
        },
        "outputId": "682fd561-d359-4f15-e1fa-52b9da6aeaf6"
      },
      "source": [
        "model.evaluate(x_test, y_test)"
      ],
      "execution_count": 90,
      "outputs": [
        {
          "output_type": "stream",
          "text": [
            "1/1 [==============================] - 0s 2ms/step - loss: 0.1158 - accuracy: 0.9333\n"
          ],
          "name": "stdout"
        },
        {
          "output_type": "execute_result",
          "data": {
            "text/plain": [
              "[0.1158495768904686, 0.9333333373069763]"
            ]
          },
          "metadata": {
            "tags": []
          },
          "execution_count": 90
        }
      ]
    },
    {
      "cell_type": "code",
      "metadata": {
        "id": "h1sk-oTUYPX6",
        "colab_type": "code",
        "colab": {}
      },
      "source": [
        ""
      ],
      "execution_count": null,
      "outputs": []
    }
  ]
}